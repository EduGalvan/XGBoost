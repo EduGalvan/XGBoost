{
  "nbformat": 4,
  "nbformat_minor": 0,
  "metadata": {
    "colab": {
      "provenance": [],
      "authorship_tag": "ABX9TyOqhPK1BMy+p+4iq5jeoSsW",
      "include_colab_link": true
    },
    "kernelspec": {
      "name": "python3",
      "display_name": "Python 3"
    },
    "language_info": {
      "name": "python"
    }
  },
  "cells": [
    {
      "cell_type": "markdown",
      "metadata": {
        "id": "view-in-github",
        "colab_type": "text"
      },
      "source": [
        "<a href=\"https://colab.research.google.com/github/EduGalvan/XGBoost/blob/main/XGBOOST_and_gradient_descent.ipynb\" target=\"_parent\"><img src=\"https://colab.research.google.com/assets/colab-badge.svg\" alt=\"Open In Colab\"/></a>"
      ]
    },
    {
      "cell_type": "code",
      "execution_count": null,
      "metadata": {
        "id": "Cbz6gO-Br_Wl"
      },
      "outputs": [],
      "source": [
        "import numpy as np\n",
        "\n",
        "# Supongamos que tenemos una función de pérdida (error)\n",
        "def loss_function(w, x, y):\n",
        "    return np.mean((y - np.dot(x, w)) ** 2)\n",
        "\n",
        "# Descenso del gradiente para encontrar los pesos óptimos\n",
        "def gradient_descent(x, y, learning_rate=0.01, iterations=100):\n",
        "    w = np.zeros(x.shape[1])\n",
        "    for i in range(iterations):\n",
        "        prediction = np.dot(x, w)\n",
        "        error = prediction - y\n",
        "        gradient = 2 * np.dot(x.T, error) / x.shape[0]\n",
        "        w = w - learning_rate * gradient\n",
        "    return w\n",
        "\n",
        "x = np.array([[1, 2, 3], [4, 5, 6], [7, 8, 9]])\n",
        "y = np.array([1, 2, 3])\n",
        "w = gradient_descent(x, y)\n",
        "print(w)"
      ]
    },
    {
      "cell_type": "code",
      "source": [
        "import numpy as np\n",
        "import matplotlib.pyplot as plt\n"
      ],
      "metadata": {
        "id": "wj8wemPL7i0f"
      },
      "execution_count": null,
      "outputs": []
    },
    {
      "cell_type": "code",
      "source": [
        "\n",
        "\n",
        "np.random.seed(0)\n",
        "\n",
        "def generate_data(num_samples, slope, intercept, noise_mean, noise_std):\n",
        "    x = np.linspace(0, 10, num_samples)\n",
        "    noise = np.random.normal(noise_mean, noise_std, num_samples)\n",
        "    y = slope * x + intercept + noise\n",
        "    return x, y\n",
        "\n",
        "x, y = generate_data(100, 2, 1, 0, 1)\n"
      ],
      "metadata": {
        "id": "Mcn15yEL609S"
      },
      "execution_count": null,
      "outputs": []
    },
    {
      "cell_type": "code",
      "source": [
        "plt.scatter(x, y)"
      ],
      "metadata": {
        "colab": {
          "base_uri": "https://localhost:8080/",
          "height": 283
        },
        "id": "uJnAkWGB7baf",
        "outputId": "666fdf7d-333c-4bfd-f4e6-7163c6938bd6"
      },
      "execution_count": null,
      "outputs": [
        {
          "output_type": "execute_result",
          "data": {
            "text/plain": [
              "<matplotlib.collections.PathCollection at 0x7f39fe092ac0>"
            ]
          },
          "metadata": {},
          "execution_count": 36
        },
        {
          "output_type": "display_data",
          "data": {
            "text/plain": [
              "<Figure size 432x288 with 1 Axes>"
            ],
            "image/png": "[encoded data removed]"
          },
          "metadata": {
            "needs_background": "light"
          }
        }
      ]
    },
    {
      "cell_type": "code",
      "source": [
        "def gradient_descent(x, y, learning_rate, num_iterations):\n",
        "    m = 0\n",
        "    b = 0\n",
        "    N = float(len(y))\n",
        "    for i in range(num_iterations):\n",
        "        y_pred = m * x + b\n",
        "        loss = np.sum(y - y_pred)**2 / N\n",
        "        dm = -(2/N) * np.sum(x * (y - y_pred))\n",
        "        db = -(2/N) * np.sum(y - y_pred)\n",
        "        m = m - learning_rate * dm\n",
        "        b = b - learning_rate * db\n",
        "    return m, b\n",
        "\n",
        "m, b = gradient_descent(x, y, learning_rate=0.01, num_iterations=1000)"
      ],
      "metadata": {
        "colab": {
          "base_uri": "https://localhost:8080/"
        },
        "id": "4PElz2x6-hNh",
        "outputId": "50a4b1bf-0d5c-4bb8-9bb6-9700944856b7"
      },
      "execution_count": null,
      "outputs": [
        {
          "output_type": "stream",
          "name": "stderr",
          "text": [
            "<ipython-input-127-eae7f9623a15>:7: RuntimeWarning: overflow encountered in double_scalars\n",
            "  loss = np.sum(y - y_pred)**2 / N\n",
            "/usr/local/lib/python3.8/dist-packages/numpy/core/fromnumeric.py:86: RuntimeWarning: overflow encountered in reduce\n",
            "  return ufunc.reduce(obj, axis, dtype, out, **passkwargs)\n",
            "<ipython-input-127-eae7f9623a15>:6: RuntimeWarning: invalid value encountered in multiply\n",
            "  y_pred = m * x + b\n"
          ]
        }
      ]
    },
    {
      "cell_type": "code",
      "source": [
        "print(m,b)"
      ],
      "metadata": {
        "colab": {
          "base_uri": "https://localhost:8080/"
        },
        "id": "vvbKUt3W-iip",
        "outputId": "b1fa8fb4-0b3d-41ef-f367-05efc06d5097"
      },
      "execution_count": null,
      "outputs": [
        {
          "output_type": "stream",
          "name": "stdout",
          "text": [
            "nan nan\n"
          ]
        }
      ]
    },
    {
      "cell_type": "code",
      "source": [
        "for i in range(len(x)):\n",
        "  y2 = x * m + b"
      ],
      "metadata": {
        "id": "CmipwXqT-tzf"
      },
      "execution_count": null,
      "outputs": []
    },
    {
      "cell_type": "code",
      "source": [
        "import random\n"
      ],
      "metadata": {
        "id": "iTyVXdQFD3Wx"
      },
      "execution_count": null,
      "outputs": []
    },
    {
      "cell_type": "code",
      "source": [
        "\n",
        "x = np.linspace(0, 10, 100)\n",
        "x"
      ],
      "metadata": {
        "colab": {
          "base_uri": "https://localhost:8080/"
        },
        "id": "-3uKKLhYDA15",
        "outputId": "7cf70efa-b68f-436e-fa39-45b9aa317069"
      },
      "execution_count": null,
      "outputs": [
        {
          "output_type": "execute_result",
          "data": {
            "text/plain": [
              "array([ 0.        ,  0.1010101 ,  0.2020202 ,  0.3030303 ,  0.4040404 ,\n",
              "        0.50505051,  0.60606061,  0.70707071,  0.80808081,  0.90909091,\n",
              "        1.01010101,  1.11111111,  1.21212121,  1.31313131,  1.41414141,\n",
              "        1.51515152,  1.61616162,  1.71717172,  1.81818182,  1.91919192,\n",
              "        2.02020202,  2.12121212,  2.22222222,  2.32323232,  2.42424242,\n",
              "        2.52525253,  2.62626263,  2.72727273,  2.82828283,  2.92929293,\n",
              "        3.03030303,  3.13131313,  3.23232323,  3.33333333,  3.43434343,\n",
              "        3.53535354,  3.63636364,  3.73737374,  3.83838384,  3.93939394,\n",
              "        4.04040404,  4.14141414,  4.24242424,  4.34343434,  4.44444444,\n",
              "        4.54545455,  4.64646465,  4.74747475,  4.84848485,  4.94949495,\n",
              "        5.05050505,  5.15151515,  5.25252525,  5.35353535,  5.45454545,\n",
              "        5.55555556,  5.65656566,  5.75757576,  5.85858586,  5.95959596,\n",
              "        6.06060606,  6.16161616,  6.26262626,  6.36363636,  6.46464646,\n",
              "        6.56565657,  6.66666667,  6.76767677,  6.86868687,  6.96969697,\n",
              "        7.07070707,  7.17171717,  7.27272727,  7.37373737,  7.47474747,\n",
              "        7.57575758,  7.67676768,  7.77777778,  7.87878788,  7.97979798,\n",
              "        8.08080808,  8.18181818,  8.28282828,  8.38383838,  8.48484848,\n",
              "        8.58585859,  8.68686869,  8.78787879,  8.88888889,  8.98989899,\n",
              "        9.09090909,  9.19191919,  9.29292929,  9.39393939,  9.49494949,\n",
              "        9.5959596 ,  9.6969697 ,  9.7979798 ,  9.8989899 , 10.        ])"
            ]
          },
          "metadata": {},
          "execution_count": 68
        }
      ]
    },
    {
      "cell_type": "code",
      "source": [
        "def genarar_datos(numero_muestras, pendiente, origen, ruido):\n",
        "  x = np.linspace(0, 10, numero_muestras)\n",
        "  y = x * pendiente + origen + np.random.randint(0, 10, numero_muestras) * ruido\n",
        "\n",
        "  return x, y\n",
        "\n",
        "\n",
        "x, y = genarar_datos(100, 3, 1, 0.5)"
      ],
      "metadata": {
        "id": "x0aEFAzDD60z"
      },
      "execution_count": null,
      "outputs": []
    },
    {
      "cell_type": "code",
      "source": [
        "plt.scatter(x, y)"
      ],
      "metadata": {
        "colab": {
          "base_uri": "https://localhost:8080/",
          "height": 283
        },
        "id": "7SuLycY8HkMS",
        "outputId": "27e06fb0-8990-44ec-a8e9-6db96479bc17"
      },
      "execution_count": null,
      "outputs": [
        {
          "output_type": "execute_result",
          "data": {
            "text/plain": [
              "<matplotlib.collections.PathCollection at 0x7f39fd31ba60>"
            ]
          },
          "metadata": {},
          "execution_count": 140
        },
        {
          "output_type": "display_data",
          "data": {
            "text/plain": [
              "<Figure size 432x288 with 1 Axes>"
            ],
            "image/png": "[encoded data removed]"
          },
          "metadata": {
            "needs_background": "light"
          }
        }
      ]
    },
    {
      "cell_type": "code",
      "source": [
        "def descenso_gradiente(x, y, tasa_aprendizaje, iteraciones):\n",
        "  m = 0\n",
        "  b = 0\n",
        "  N = float(len(y))\n",
        "\n",
        "  for i in range(iteraciones):\n",
        "    y_pred = x * m + b\n",
        "    loss = np.sum(y - y_pred)**2/N\n",
        "    dm = -(2/N) * np.sum(x * (y-y_pred))\n",
        "    db = -(2/N) * np.sum(y-y_pred)\n",
        "    m = m - dm * tasa_aprendizaje\n",
        "    b = b - db * tasa_aprendizaje\n",
        "\n",
        "  return m, b"
      ],
      "metadata": {
        "id": "BRuBHz_4IQGo"
      },
      "execution_count": null,
      "outputs": []
    },
    {
      "cell_type": "code",
      "source": [
        "m, b = descenso_gradiente(x, y, 0.001, 1000)"
      ],
      "metadata": {
        "id": "COi278vAKRWr"
      },
      "execution_count": null,
      "outputs": []
    },
    {
      "cell_type": "code",
      "source": [
        "print(m, b)"
      ],
      "metadata": {
        "colab": {
          "base_uri": "https://localhost:8080/"
        },
        "id": "nSwQ-3MjLAoZ",
        "outputId": "3f7f889d-81ba-49ee-abef-48db37d429ef"
      },
      "execution_count": null,
      "outputs": [
        {
          "output_type": "stream",
          "name": "stdout",
          "text": [
            "3.2334282729648427 1.5182736502828007\n"
          ]
        }
      ]
    },
    {
      "cell_type": "code",
      "source": [
        "y"
      ],
      "metadata": {
        "colab": {
          "base_uri": "https://localhost:8080/"
        },
        "id": "4H5TFf59LCAR",
        "outputId": "fc087336-8c25-4ba7-da64-3fe26628389f"
      },
      "execution_count": null,
      "outputs": [
        {
          "output_type": "execute_result",
          "data": {
            "text/plain": [
              "array([ 10.        ,   8.01010101,  18.02020202,  16.03030303,\n",
              "         8.04040404,  21.05050505,  31.06060606,  17.07070707,\n",
              "        24.08080808,  34.09090909,  23.1010101 ,  15.11111111,\n",
              "        34.12121212,  38.13131313,  18.14141414,  22.15151515,\n",
              "        20.16161616,  21.17171717,  40.18181818,  35.19191919,\n",
              "        21.2020202 ,  34.21212121,  26.22222222,  27.23232323,\n",
              "        43.24242424,  44.25252525,  27.26262626,  34.27272727,\n",
              "        38.28282828,  51.29292929,  58.3030303 ,  38.31313131,\n",
              "        45.32323232,  61.33333333,  35.34343434,  54.35353535,\n",
              "        64.36363636,  44.37373737,  51.38383838,  61.39393939,\n",
              "        50.4040404 ,  42.41414141,  58.42424242,  56.43434343,\n",
              "        45.44444444,  52.45454545,  56.46464646,  51.47474747,\n",
              "        70.48484848,  53.49494949,  60.50505051,  64.51515152,\n",
              "        56.52525253,  75.53535354,  67.54545455,  56.55555556,\n",
              "        63.56565657,  79.57575758,  71.58585859,  60.5959596 ,\n",
              "        67.60606061,  80.61616162,  90.62626263,  70.63636364,\n",
              "        77.64646465,  93.65656566,  94.66666667,  83.67676768,\n",
              "        81.68686869,  82.6969697 ,  98.70707071,  96.71717172,\n",
              "        76.72727273,  89.73737374,  96.74747475,  76.75757576,\n",
              "        80.76767677,  87.77777778, 106.78787879,  86.7979798 ,\n",
              "       105.80808081,  88.81818182,  95.82828283, 108.83838384,\n",
              "        91.84848485, 113.85858586, 111.86868687, 109.87878788,\n",
              "       113.88888889,  96.8989899 , 100.90909091, 101.91919192,\n",
              "       111.92929293,  94.93939394, 104.94949495, 114.95959596,\n",
              "       106.96969697, 125.97979798, 117.98989899, 110.        ])"
            ]
          },
          "metadata": {},
          "execution_count": 126
        }
      ]
    }
  ]
}