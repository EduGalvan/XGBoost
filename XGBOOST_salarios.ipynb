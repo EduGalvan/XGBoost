{
  "nbformat": 4,
  "nbformat_minor": 0,
  "metadata": {
    "colab": {
      "provenance": [],
      "mount_file_id": "1h6dWBSrlLCERNe0h5WwhlOPKwe-mgXV3",
      "authorship_tag": "ABX9TyPliTdUAxDDpbrwsvZgpsWn",
      "include_colab_link": true
    },
    "kernelspec": {
      "name": "python3",
      "display_name": "Python 3"
    },
    "language_info": {
      "name": "python"
    }
  },
  "cells": [
    {
      "cell_type": "markdown",
      "metadata": {
        "id": "view-in-github",
        "colab_type": "text"
      },
      "source": [
        "<a href=\"https://colab.research.google.com/github/EduGalvan/XGBoost/blob/main/XGBOOST_salarios.ipynb\" target=\"_parent\"><img src=\"https://colab.research.google.com/assets/colab-badge.svg\" alt=\"Open In Colab\"/></a>"
      ]
    },
    {
      "cell_type": "code",
      "source": [
        "import numpy as np\n",
        "import pandas as pd"
      ],
      "metadata": {
        "id": "p_xYmmEe6aFu"
      },
      "execution_count": null,
      "outputs": []
    },
    {
      "cell_type": "code",
      "execution_count": null,
      "metadata": {
        "colab": {
          "base_uri": "https://localhost:8080/"
        },
        "id": "-P3QywzF6BVp",
        "outputId": "950431a2-60fe-41d3-bfd3-d00cb9697356"
      },
      "outputs": [
        {
          "output_type": "stream",
          "name": "stderr",
          "text": [
            "/usr/local/lib/python3.8/dist-packages/pandas/util/_decorators.py:311: ParserWarning: Falling back to the 'python' engine because the 'c' engine does not support regex separators (separators > 1 char and different from '\\s+' are interpreted as regex); you can avoid this warning by specifying engine='python'.\n",
            "  return func(*args, **kwargs)\n"
          ]
        }
      ],
      "source": [
        "df = pd.read_csv('/content/drive/MyDrive/adult.data', sep = ', ', header= None)"
      ]
    },
    {
      "cell_type": "code",
      "source": [
        "columnas = ['age', 'workclass', 'fnlwgt', 'education', 'education-num', 'marital-status', 'occupation', 'relationship','race', 'sex', 'capital-gain', 'capital-loss', 'hours-per-week', 'native-country', 'target' ]"
      ],
      "metadata": {
        "id": "h-3KLvG67L6j"
      },
      "execution_count": null,
      "outputs": []
    },
    {
      "cell_type": "code",
      "source": [
        "df.columns = columnas"
      ],
      "metadata": {
        "id": "B6AoJJ4m8I6j"
      },
      "execution_count": null,
      "outputs": []
    },
    {
      "cell_type": "code",
      "source": [
        "df"
      ],
      "metadata": {
        "colab": {
          "base_uri": "https://localhost:8080/",
          "height": 485
        },
        "id": "JD4z2tP88LjC",
        "outputId": "b146a8fc-4982-4c8d-8b9e-f9ecdfc98db5"
      },
      "execution_count": null,
      "outputs": [
        {
          "output_type": "execute_result",
          "data": {
            "text/plain": [
              "       age  workclass  fnlwgt  education  education-num  marital-status  \\\n",
              "0       39       1298   77516       5355             13           10683   \n",
              "1       50       2541   83311       5355             13           14976   \n",
              "2       38      22696  215646      10501              9            4443   \n",
              "3       53      22696  234721       1175              7           14976   \n",
              "4       28      22696  338409       5355             13           14976   \n",
              "...    ...        ...     ...        ...            ...             ...   \n",
              "32556   27      22696  257302       1067             12           14976   \n",
              "32557   40      22696  154374      10501              9           14976   \n",
              "32558   58      22696  151910      10501              9             993   \n",
              "32559   22      22696  201490      10501              9           10683   \n",
              "32560   52       1116  287927      10501              9           14976   \n",
              "\n",
              "       occupation  relationship   race  sex  capital-gain  capital-loss  \\\n",
              "0            3770          8305  27816    0          2174             0   \n",
              "1            4066         13193  27816    0             0             0   \n",
              "2            1370          8305  27816    0             0             0   \n",
              "3            1370         13193   3124    0             0             0   \n",
              "4            4140          1568   3124    1             0             0   \n",
              "...           ...           ...    ...  ...           ...           ...   \n",
              "32556         928          1568  27816    1             0             0   \n",
              "32557        2002         13193  27816    0             0             0   \n",
              "32558        3770          3446  27816    1             0             0   \n",
              "32559        3770          5068  27816    0             0             0   \n",
              "32560        4066          1568  27816    1         15024             0   \n",
              "\n",
              "       hours-per-week  native-country  target  40 semanales  ganancias netas  \n",
              "0                  40           29170       0             0             2174  \n",
              "1                  13           29170       0             0                0  \n",
              "2                  40           29170       0             0                0  \n",
              "3                  40           29170       0             0                0  \n",
              "4                  40              95       0             0                0  \n",
              "...               ...             ...     ...           ...              ...  \n",
              "32556              38           29170       0             0                0  \n",
              "32557              40           29170       1             0                0  \n",
              "32558              40           29170       0             0                0  \n",
              "32559              20           29170       0             0                0  \n",
              "32560              40           29170       1             0            15024  \n",
              "\n",
              "[32561 rows x 17 columns]"
            ],
            "text/html": [
              "\n",
              "  <div id=\"df-b1620a19-6f4d-4b56-8a45-75dd80884ea6\">\n",
              "    <div class=\"colab-df-container\">\n",
              "      <div>\n",
              "<style scoped>\n",
              "    .dataframe tbody tr th:only-of-type {\n",
              "        vertical-align: middle;\n",
              "    }\n",
              "\n",
              "    .dataframe tbody tr th {\n",
              "        vertical-align: top;\n",
              "    }\n",
              "\n",
              "    .dataframe thead th {\n",
              "        text-align: right;\n",
              "    }\n",
              "</style>\n",
              "<table border=\"1\" class=\"dataframe\">\n",
              "  <thead>\n",
              "    <tr style=\"text-align: right;\">\n",
              "      <th></th>\n",
              "      <th>age</th>\n",
              "      <th>workclass</th>\n",
              "      <th>fnlwgt</th>\n",
              "      <th>education</th>\n",
              "      <th>education-num</th>\n",
              "      <th>marital-status</th>\n",
              "      <th>occupation</th>\n",
              "      <th>relationship</th>\n",
              "      <th>race</th>\n",
              "      <th>sex</th>\n",
              "      <th>capital-gain</th>\n",
              "      <th>capital-loss</th>\n",
              "      <th>hours-per-week</th>\n",
              "      <th>native-country</th>\n",
              "      <th>target</th>\n",
              "      <th>40 semanales</th>\n",
              "      <th>ganancias netas</th>\n",
              "    </tr>\n",
              "  </thead>\n",
              "  <tbody>\n",
              "    <tr>\n",
              "      <th>0</th>\n",
              "      <td>39</td>\n",
              "      <td>1298</td>\n",
              "      <td>77516</td>\n",
              "      <td>5355</td>\n",
              "      <td>13</td>\n",
              "      <td>10683</td>\n",
              "      <td>3770</td>\n",
              "      <td>8305</td>\n",
              "      <td>27816</td>\n",
              "      <td>0</td>\n",
              "      <td>2174</td>\n",
              "      <td>0</td>\n",
              "      <td>40</td>\n",
              "      <td>29170</td>\n",
              "      <td>0</td>\n",
              "      <td>0</td>\n",
              "      <td>2174</td>\n",
              "    </tr>\n",
              "    <tr>\n",
              "      <th>1</th>\n",
              "      <td>50</td>\n",
              "      <td>2541</td>\n",
              "      <td>83311</td>\n",
              "      <td>5355</td>\n",
              "      <td>13</td>\n",
              "      <td>14976</td>\n",
              "      <td>4066</td>\n",
              "      <td>13193</td>\n",
              "      <td>27816</td>\n",
              "      <td>0</td>\n",
              "      <td>0</td>\n",
              "      <td>0</td>\n",
              "      <td>13</td>\n",
              "      <td>29170</td>\n",
              "      <td>0</td>\n",
              "      <td>0</td>\n",
              "      <td>0</td>\n",
              "    </tr>\n",
              "    <tr>\n",
              "      <th>2</th>\n",
              "      <td>38</td>\n",
              "      <td>22696</td>\n",
              "      <td>215646</td>\n",
              "      <td>10501</td>\n",
              "      <td>9</td>\n",
              "      <td>4443</td>\n",
              "      <td>1370</td>\n",
              "      <td>8305</td>\n",
              "      <td>27816</td>\n",
              "      <td>0</td>\n",
              "      <td>0</td>\n",
              "      <td>0</td>\n",
              "      <td>40</td>\n",
              "      <td>29170</td>\n",
              "      <td>0</td>\n",
              "      <td>0</td>\n",
              "      <td>0</td>\n",
              "    </tr>\n",
              "    <tr>\n",
              "      <th>3</th>\n",
              "      <td>53</td>\n",
              "      <td>22696</td>\n",
              "      <td>234721</td>\n",
              "      <td>1175</td>\n",
              "      <td>7</td>\n",
              "      <td>14976</td>\n",
              "      <td>1370</td>\n",
              "      <td>13193</td>\n",
              "      <td>3124</td>\n",
              "      <td>0</td>\n",
              "      <td>0</td>\n",
              "      <td>0</td>\n",
              "      <td>40</td>\n",
              "      <td>29170</td>\n",
              "      <td>0</td>\n",
              "      <td>0</td>\n",
              "      <td>0</td>\n",
              "    </tr>\n",
              "    <tr>\n",
              "      <th>4</th>\n",
              "      <td>28</td>\n",
              "      <td>22696</td>\n",
              "      <td>338409</td>\n",
              "      <td>5355</td>\n",
              "      <td>13</td>\n",
              "      <td>14976</td>\n",
              "      <td>4140</td>\n",
              "      <td>1568</td>\n",
              "      <td>3124</td>\n",
              "      <td>1</td>\n",
              "      <td>0</td>\n",
              "      <td>0</td>\n",
              "      <td>40</td>\n",
              "      <td>95</td>\n",
              "      <td>0</td>\n",
              "      <td>0</td>\n",
              "      <td>0</td>\n",
              "    </tr>\n",
              "    <tr>\n",
              "      <th>...</th>\n",
              "      <td>...</td>\n",
              "      <td>...</td>\n",
              "      <td>...</td>\n",
              "      <td>...</td>\n",
              "      <td>...</td>\n",
              "      <td>...</td>\n",
              "      <td>...</td>\n",
              "      <td>...</td>\n",
              "      <td>...</td>\n",
              "      <td>...</td>\n",
              "      <td>...</td>\n",
              "      <td>...</td>\n",
              "      <td>...</td>\n",
              "      <td>...</td>\n",
              "      <td>...</td>\n",
              "      <td>...</td>\n",
              "      <td>...</td>\n",
              "    </tr>\n",
              "    <tr>\n",
              "      <th>32556</th>\n",
              "      <td>27</td>\n",
              "      <td>22696</td>\n",
              "      <td>257302</td>\n",
              "      <td>1067</td>\n",
              "      <td>12</td>\n",
              "      <td>14976</td>\n",
              "      <td>928</td>\n",
              "      <td>1568</td>\n",
              "      <td>27816</td>\n",
              "      <td>1</td>\n",
              "      <td>0</td>\n",
              "      <td>0</td>\n",
              "      <td>38</td>\n",
              "      <td>29170</td>\n",
              "      <td>0</td>\n",
              "      <td>0</td>\n",
              "      <td>0</td>\n",
              "    </tr>\n",
              "    <tr>\n",
              "      <th>32557</th>\n",
              "      <td>40</td>\n",
              "      <td>22696</td>\n",
              "      <td>154374</td>\n",
              "      <td>10501</td>\n",
              "      <td>9</td>\n",
              "      <td>14976</td>\n",
              "      <td>2002</td>\n",
              "      <td>13193</td>\n",
              "      <td>27816</td>\n",
              "      <td>0</td>\n",
              "      <td>0</td>\n",
              "      <td>0</td>\n",
              "      <td>40</td>\n",
              "      <td>29170</td>\n",
              "      <td>1</td>\n",
              "      <td>0</td>\n",
              "      <td>0</td>\n",
              "    </tr>\n",
              "    <tr>\n",
              "      <th>32558</th>\n",
              "      <td>58</td>\n",
              "      <td>22696</td>\n",
              "      <td>151910</td>\n",
              "      <td>10501</td>\n",
              "      <td>9</td>\n",
              "      <td>993</td>\n",
              "      <td>3770</td>\n",
              "      <td>3446</td>\n",
              "      <td>27816</td>\n",
              "      <td>1</td>\n",
              "      <td>0</td>\n",
              "      <td>0</td>\n",
              "      <td>40</td>\n",
              "      <td>29170</td>\n",
              "      <td>0</td>\n",
              "      <td>0</td>\n",
              "      <td>0</td>\n",
              "    </tr>\n",
              "    <tr>\n",
              "      <th>32559</th>\n",
              "      <td>22</td>\n",
              "      <td>22696</td>\n",
              "      <td>201490</td>\n",
              "      <td>10501</td>\n",
              "      <td>9</td>\n",
              "      <td>10683</td>\n",
              "      <td>3770</td>\n",
              "      <td>5068</td>\n",
              "      <td>27816</td>\n",
              "      <td>0</td>\n",
              "      <td>0</td>\n",
              "      <td>0</td>\n",
              "      <td>20</td>\n",
              "      <td>29170</td>\n",
              "      <td>0</td>\n",
              "      <td>0</td>\n",
              "      <td>0</td>\n",
              "    </tr>\n",
              "    <tr>\n",
              "      <th>32560</th>\n",
              "      <td>52</td>\n",
              "      <td>1116</td>\n",
              "      <td>287927</td>\n",
              "      <td>10501</td>\n",
              "      <td>9</td>\n",
              "      <td>14976</td>\n",
              "      <td>4066</td>\n",
              "      <td>1568</td>\n",
              "      <td>27816</td>\n",
              "      <td>1</td>\n",
              "      <td>15024</td>\n",
              "      <td>0</td>\n",
              "      <td>40</td>\n",
              "      <td>29170</td>\n",
              "      <td>1</td>\n",
              "      <td>0</td>\n",
              "      <td>15024</td>\n",
              "    </tr>\n",
              "  </tbody>\n",
              "</table>\n",
              "<p>32561 rows × 17 columns</p>\n",
              "</div>\n",
              "      <button class=\"colab-df-convert\" onclick=\"convertToInteractive('df-b1620a19-6f4d-4b56-8a45-75dd80884ea6')\"\n",
              "              title=\"Convert this dataframe to an interactive table.\"\n",
              "              style=\"display:none;\">\n",
              "        \n",
              "  <svg xmlns=\"http://www.w3.org/2000/svg\" height=\"24px\"viewBox=\"0 0 24 24\"\n",
              "       width=\"24px\">\n",
              "    <path d=\"M0 0h24v24H0V0z\" fill=\"none\"/>\n",
              "    <path d=\"M18.56 5.44l.94 2.06.94-2.06 2.06-.94-2.06-.94-.94-2.06-.94 2.06-2.06.94zm-11 1L8.5 8.5l.94-2.06 2.06-.94-2.06-.94L8.5 2.5l-.94 2.06-2.06.94zm10 10l.94 2.06.94-2.06 2.06-.94-2.06-.94-.94-2.06-.94 2.06-2.06.94z\"/><path d=\"M17.41 7.96l-1.37-1.37c-.4-.4-.92-.59-1.43-.59-.52 0-1.04.2-1.43.59L10.3 9.45l-7.72 7.72c-.78.78-.78 2.05 0 2.83L4 21.41c.39.39.9.59 1.41.59.51 0 1.02-.2 1.41-.59l7.78-7.78 2.81-2.81c.8-.78.8-2.07 0-2.86zM5.41 20L4 18.59l7.72-7.72 1.47 1.35L5.41 20z\"/>\n",
              "  </svg>\n",
              "      </button>\n",
              "      \n",
              "  <style>\n",
              "    .colab-df-container {\n",
              "      display:flex;\n",
              "      flex-wrap:wrap;\n",
              "      gap: 12px;\n",
              "    }\n",
              "\n",
              "    .colab-df-convert {\n",
              "      background-color: #E8F0FE;\n",
              "      border: none;\n",
              "      border-radius: 50%;\n",
              "      cursor: pointer;\n",
              "      display: none;\n",
              "      fill: #1967D2;\n",
              "      height: 32px;\n",
              "      padding: 0 0 0 0;\n",
              "      width: 32px;\n",
              "    }\n",
              "\n",
              "    .colab-df-convert:hover {\n",
              "      background-color: #E2EBFA;\n",
              "      box-shadow: 0px 1px 2px rgba(60, 64, 67, 0.3), 0px 1px 3px 1px rgba(60, 64, 67, 0.15);\n",
              "      fill: #174EA6;\n",
              "    }\n",
              "\n",
              "    [theme=dark] .colab-df-convert {\n",
              "      background-color: #3B4455;\n",
              "      fill: #D2E3FC;\n",
              "    }\n",
              "\n",
              "    [theme=dark] .colab-df-convert:hover {\n",
              "      background-color: #434B5C;\n",
              "      box-shadow: 0px 1px 3px 1px rgba(0, 0, 0, 0.15);\n",
              "      filter: drop-shadow(0px 1px 2px rgba(0, 0, 0, 0.3));\n",
              "      fill: #FFFFFF;\n",
              "    }\n",
              "  </style>\n",
              "\n",
              "      <script>\n",
              "        const buttonEl =\n",
              "          document.querySelector('#df-b1620a19-6f4d-4b56-8a45-75dd80884ea6 button.colab-df-convert');\n",
              "        buttonEl.style.display =\n",
              "          google.colab.kernel.accessAllowed ? 'block' : 'none';\n",
              "\n",
              "        async function convertToInteractive(key) {\n",
              "          const element = document.querySelector('#df-b1620a19-6f4d-4b56-8a45-75dd80884ea6');\n",
              "          const dataTable =\n",
              "            await google.colab.kernel.invokeFunction('convertToInteractive',\n",
              "                                                     [key], {});\n",
              "          if (!dataTable) return;\n",
              "\n",
              "          const docLinkHtml = 'Like what you see? Visit the ' +\n",
              "            '<a target=\"_blank\" href=https://colab.research.google.com/notebooks/data_table.ipynb>data table notebook</a>'\n",
              "            + ' to learn more about interactive tables.';\n",
              "          element.innerHTML = '';\n",
              "          dataTable['output_type'] = 'display_data';\n",
              "          await google.colab.output.renderOutput(dataTable, element);\n",
              "          const docLink = document.createElement('div');\n",
              "          docLink.innerHTML = docLinkHtml;\n",
              "          element.appendChild(docLink);\n",
              "        }\n",
              "      </script>\n",
              "    </div>\n",
              "  </div>\n",
              "  "
            ]
          },
          "metadata": {},
          "execution_count": 38
        }
      ]
    },
    {
      "cell_type": "code",
      "source": [
        "df['target'] = np.where(df['target'] == '<=50K', 0, 1)"
      ],
      "metadata": {
        "id": "DgJS-Y9e8nDW"
      },
      "execution_count": null,
      "outputs": []
    },
    {
      "cell_type": "code",
      "source": [
        "df['40 semanales'] = np.where(df['hours-per-week'] <= 40, 0, 1)"
      ],
      "metadata": {
        "id": "5BpiIh_G9TO2"
      },
      "execution_count": null,
      "outputs": []
    },
    {
      "cell_type": "code",
      "source": [
        "df['ganancias netas'] = df['capital-gain'] - df['capital-loss']"
      ],
      "metadata": {
        "id": "F8LLBTVR-XLY"
      },
      "execution_count": null,
      "outputs": []
    },
    {
      "cell_type": "code",
      "source": [
        "df['sex'] = np.where(df['sex'] == 'Female', 1, 0)"
      ],
      "metadata": {
        "id": "kCLZ_p_S-uUj"
      },
      "execution_count": null,
      "outputs": []
    },
    {
      "cell_type": "code",
      "source": [
        "#trnaformar las clases categroicas a numericas sustituyendo la categoria por su frecuencia\n",
        "a = df.groupby('workclass')['workclass'].transform('count')\n"
      ],
      "metadata": {
        "id": "kVsvdfcx_GZk"
      },
      "execution_count": null,
      "outputs": []
    },
    {
      "cell_type": "code",
      "source": [
        "df.columns\n"
      ],
      "metadata": {
        "colab": {
          "base_uri": "https://localhost:8080/"
        },
        "id": "1xk9yu69_ofc",
        "outputId": "d25ad484-ba56-488a-b4b4-59c8491e012c"
      },
      "execution_count": null,
      "outputs": [
        {
          "output_type": "execute_result",
          "data": {
            "text/plain": [
              "Index(['age', 'workclass', 'fnlwgt', 'education', 'education-num',\n",
              "       'marital-status', 'occupation', 'relationship', 'race', 'sex',\n",
              "       'capital-gain', 'capital-loss', 'hours-per-week', 'native-country',\n",
              "       'target', '40 semanales', 'ganancias netas'],\n",
              "      dtype='object')"
            ]
          },
          "metadata": {},
          "execution_count": 35
        }
      ]
    },
    {
      "cell_type": "code",
      "source": [
        "cat_col = ['workclass', 'education','marital-status', 'occupation', 'relationship', 'race', 'native-country']"
      ],
      "metadata": {
        "id": "QQ_GfWX4_wOw"
      },
      "execution_count": null,
      "outputs": []
    },
    {
      "cell_type": "code",
      "source": [
        "for i in cat_col:\n",
        "  df[i] = df.groupby(i)[i].transform('count') \n"
      ],
      "metadata": {
        "id": "wgpNMY1nAJF8"
      },
      "execution_count": null,
      "outputs": []
    },
    {
      "cell_type": "code",
      "source": [
        "X = df.loc[:, df.columns!='target']"
      ],
      "metadata": {
        "id": "ScpKViebAoki"
      },
      "execution_count": null,
      "outputs": []
    },
    {
      "cell_type": "code",
      "source": [
        "y = df.loc[:,'target']"
      ],
      "metadata": {
        "id": "5Yp0MIyqA2Nr"
      },
      "execution_count": null,
      "outputs": []
    },
    {
      "cell_type": "code",
      "source": [
        "from sklearn.model_selection import train_test_split"
      ],
      "metadata": {
        "id": "tcywaDKvBCWj"
      },
      "execution_count": null,
      "outputs": []
    },
    {
      "cell_type": "code",
      "source": [
        "X_train, X_test, y_train, y_test = train_test_split(X, y, test_size= 0.5, random_state= 1)"
      ],
      "metadata": {
        "id": "9_WK5XXaBVLr"
      },
      "execution_count": null,
      "outputs": []
    },
    {
      "cell_type": "code",
      "source": [
        "X_valid, X_test, y_valid, y_test = train_test_split(X_test, y_test, test_size= 0.5, random_state= 1)"
      ],
      "metadata": {
        "id": "7qisSZLlBvnW"
      },
      "execution_count": null,
      "outputs": []
    },
    {
      "cell_type": "code",
      "source": [
        "X_train.shape, X_test.shape, X_valid.shape"
      ],
      "metadata": {
        "colab": {
          "base_uri": "https://localhost:8080/"
        },
        "id": "rnCo9fTuB6F1",
        "outputId": "ff7fc0a7-cf11-4e74-a7a3-f327281d8f1b"
      },
      "execution_count": null,
      "outputs": [
        {
          "output_type": "execute_result",
          "data": {
            "text/plain": [
              "((16280, 16), (8141, 16), (8140, 16))"
            ]
          },
          "metadata": {},
          "execution_count": 46
        }
      ]
    },
    {
      "cell_type": "code",
      "source": [
        "import xgboost"
      ],
      "metadata": {
        "id": "ct4LRdMJCFnb"
      },
      "execution_count": null,
      "outputs": []
    },
    {
      "cell_type": "code",
      "source": [
        "xgb = xgboost.XGBClassifier()"
      ],
      "metadata": {
        "id": "07IIB8-7CHug"
      },
      "execution_count": null,
      "outputs": []
    },
    {
      "cell_type": "code",
      "source": [
        "parameters = {'nthreads': [1],\n",
        "              'objective': ['binary_logistic'],\n",
        "              'learning_rate': [0.01, 0.05],\n",
        "              'n_estimators': [100, 200],\n",
        "              'early_stoping_rounds': [10],\n",
        "              'eval_metric': ['logloss'],\n",
        "              'eval_set': [(X_test, y_test)]\n",
        "              }"
      ],
      "metadata": {
        "id": "uNdmy0hLCQzD"
      },
      "execution_count": null,
      "outputs": []
    },
    {
      "cell_type": "code",
      "source": [
        "#se importa un algortimo de cross validation para encontrar la mejor combinacion de parametros\n",
        "from sklearn.model_selection import GridSearchCV"
      ],
      "metadata": {
        "id": "lkRMz_VkC3g1"
      },
      "execution_count": null,
      "outputs": []
    },
    {
      "cell_type": "code",
      "source": [
        "fit_params = {'early_stoping_rounds': 10,\n",
        "              'eval_metric': 'logloss',\n",
        "              'eval_set': [(X_test, y_test)]}"
      ],
      "metadata": {
        "id": "VegTTN_bDEhM"
      },
      "execution_count": null,
      "outputs": []
    },
    {
      "cell_type": "code",
      "source": [
        "clf = GridSearchCV(xgb, parameters,\n",
        "                   cv = 3, scoring= 'accuracy')"
      ],
      "metadata": {
        "id": "h15BrctnDjfa"
      },
      "execution_count": null,
      "outputs": []
    },
    {
      "cell_type": "code",
      "source": [
        "clf.fit(X_train, y_train)"
      ],
      "metadata": {
        "colab": {
          "base_uri": "https://localhost:8080/"
        },
        "id": "-Lf2ODwTG6sV",
        "outputId": "b93ae179-3f2f-4059-ee89-6c020575edd6"
      },
      "execution_count": null,
      "outputs": [
        {
          "output_type": "execute_result",
          "data": {
            "text/plain": [
              "GridSearchCV(cv=3, estimator=XGBClassifier(),\n",
              "             param_grid={'early_stoping_rounds': [10],\n",
              "                         'eval_metric': ['logloss'],\n",
              "                         'eval_set': [(       age  workclass  fnlwgt  education  education-num  marital-status  \\\n",
              "6074    55      22696  169611       1175              7             993   \n",
              "17005   51      22696  120914        933              6           10683   \n",
              "2232    45      22696  339506      10501              9           10683   \n",
              "30410   64      22696  137205       1382             11           14976   \n",
              "17996   30      22696  113364       5355             13           10683   \n",
              "...    ...        ...     ...        ...            ...             ...   \n",
              "12951   19      22696  3...\n",
              "30410              48           29170             1                0  \n",
              "17996              18           29170             0                0  \n",
              "...               ...             ...           ...              ...  \n",
              "12951              25           29170             0                0  \n",
              "2186               40           29170             0                0  \n",
              "16901              25           29170             0                0  \n",
              "24594              38           29170             0                0  \n",
              "29485              40           29170             0                0  \n",
              "\n",
              "[8141 rows x 16 columns],\n",
              "                                       6074     0\n",
              "17005    0\n",
              "2232     0\n",
              "30410    0\n",
              "17996    0\n",
              "        ..\n",
              "12951    0\n",
              "2186     0\n",
              "16901    0\n",
              "24594    0\n",
              "29485    0\n",
              "Name: target, Length: 8141, dtype: int64)],\n",
              "                         'learning_rate': [0.01, 0.05],\n",
              "                         'n_estimators': [100, 200], 'nthreads': [1],\n",
              "                         'objective': ['binary:logistic']},\n",
              "             scoring='accuracy')"
            ]
          },
          "metadata": {},
          "execution_count": 67
        }
      ]
    },
    {
      "cell_type": "code",
      "source": [
        "clf.best_estimator_"
      ],
      "metadata": {
        "id": "WTaWihqNJ6Jq"
      },
      "execution_count": null,
      "outputs": []
    },
    {
      "cell_type": "code",
      "source": [
        "clf.best_score_"
      ],
      "metadata": {
        "colab": {
          "base_uri": "https://localhost:8080/"
        },
        "id": "NEohbQfeKFba",
        "outputId": "fb4ea617-fb61-442f-edfe-af83fbf7b8e7"
      },
      "execution_count": null,
      "outputs": [
        {
          "output_type": "execute_result",
          "data": {
            "text/plain": [
              "0.8622850489784404"
            ]
          },
          "metadata": {},
          "execution_count": 69
        }
      ]
    },
    {
      "cell_type": "code",
      "source": [
        "from sklearn.metrics import accuracy_score"
      ],
      "metadata": {
        "id": "gplxlpDdKJIU"
      },
      "execution_count": null,
      "outputs": []
    },
    {
      "cell_type": "code",
      "source": [
        "bestxgb = clf.best_estimator_"
      ],
      "metadata": {
        "id": "kr3IstqqKQlT"
      },
      "execution_count": null,
      "outputs": []
    },
    {
      "cell_type": "code",
      "source": [
        "ypreds = bestxgb.predict(X_valid)"
      ],
      "metadata": {
        "id": "EukzKpJgKWEF"
      },
      "execution_count": null,
      "outputs": []
    },
    {
      "cell_type": "code",
      "source": [
        "comp = pd.DataFrame({'real': y_valid, 'preds': ypreds})"
      ],
      "metadata": {
        "id": "XcRPiTT1KhiP"
      },
      "execution_count": null,
      "outputs": []
    },
    {
      "cell_type": "code",
      "source": [
        "comp"
      ],
      "metadata": {
        "colab": {
          "base_uri": "https://localhost:8080/",
          "height": 423
        },
        "id": "VJPufqdVLSTz",
        "outputId": "02705cc0-16a1-49c5-a991-3843f4363d4b"
      },
      "execution_count": null,
      "outputs": [
        {
          "output_type": "execute_result",
          "data": {
            "text/plain": [
              "       real  preds\n",
              "22206     0      0\n",
              "15112     0      0\n",
              "4426      0      0\n",
              "4960      0      0\n",
              "32157     0      0\n",
              "...     ...    ...\n",
              "5080      0      0\n",
              "10471     0      0\n",
              "13413     0      0\n",
              "32207     0      0\n",
              "32201     0      0\n",
              "\n",
              "[8140 rows x 2 columns]"
            ],
            "text/html": [
              "\n",
              "  <div id=\"df-805178b0-8426-48f1-aa14-8125412bbc72\">\n",
              "    <div class=\"colab-df-container\">\n",
              "      <div>\n",
              "<style scoped>\n",
              "    .dataframe tbody tr th:only-of-type {\n",
              "        vertical-align: middle;\n",
              "    }\n",
              "\n",
              "    .dataframe tbody tr th {\n",
              "        vertical-align: top;\n",
              "    }\n",
              "\n",
              "    .dataframe thead th {\n",
              "        text-align: right;\n",
              "    }\n",
              "</style>\n",
              "<table border=\"1\" class=\"dataframe\">\n",
              "  <thead>\n",
              "    <tr style=\"text-align: right;\">\n",
              "      <th></th>\n",
              "      <th>real</th>\n",
              "      <th>preds</th>\n",
              "    </tr>\n",
              "  </thead>\n",
              "  <tbody>\n",
              "    <tr>\n",
              "      <th>22206</th>\n",
              "      <td>0</td>\n",
              "      <td>0</td>\n",
              "    </tr>\n",
              "    <tr>\n",
              "      <th>15112</th>\n",
              "      <td>0</td>\n",
              "      <td>0</td>\n",
              "    </tr>\n",
              "    <tr>\n",
              "      <th>4426</th>\n",
              "      <td>0</td>\n",
              "      <td>0</td>\n",
              "    </tr>\n",
              "    <tr>\n",
              "      <th>4960</th>\n",
              "      <td>0</td>\n",
              "      <td>0</td>\n",
              "    </tr>\n",
              "    <tr>\n",
              "      <th>32157</th>\n",
              "      <td>0</td>\n",
              "      <td>0</td>\n",
              "    </tr>\n",
              "    <tr>\n",
              "      <th>...</th>\n",
              "      <td>...</td>\n",
              "      <td>...</td>\n",
              "    </tr>\n",
              "    <tr>\n",
              "      <th>5080</th>\n",
              "      <td>0</td>\n",
              "      <td>0</td>\n",
              "    </tr>\n",
              "    <tr>\n",
              "      <th>10471</th>\n",
              "      <td>0</td>\n",
              "      <td>0</td>\n",
              "    </tr>\n",
              "    <tr>\n",
              "      <th>13413</th>\n",
              "      <td>0</td>\n",
              "      <td>0</td>\n",
              "    </tr>\n",
              "    <tr>\n",
              "      <th>32207</th>\n",
              "      <td>0</td>\n",
              "      <td>0</td>\n",
              "    </tr>\n",
              "    <tr>\n",
              "      <th>32201</th>\n",
              "      <td>0</td>\n",
              "      <td>0</td>\n",
              "    </tr>\n",
              "  </tbody>\n",
              "</table>\n",
              "<p>8140 rows × 2 columns</p>\n",
              "</div>\n",
              "      <button class=\"colab-df-convert\" onclick=\"convertToInteractive('df-805178b0-8426-48f1-aa14-8125412bbc72')\"\n",
              "              title=\"Convert this dataframe to an interactive table.\"\n",
              "              style=\"display:none;\">\n",
              "        \n",
              "  <svg xmlns=\"http://www.w3.org/2000/svg\" height=\"24px\"viewBox=\"0 0 24 24\"\n",
              "       width=\"24px\">\n",
              "    <path d=\"M0 0h24v24H0V0z\" fill=\"none\"/>\n",
              "    <path d=\"M18.56 5.44l.94 2.06.94-2.06 2.06-.94-2.06-.94-.94-2.06-.94 2.06-2.06.94zm-11 1L8.5 8.5l.94-2.06 2.06-.94-2.06-.94L8.5 2.5l-.94 2.06-2.06.94zm10 10l.94 2.06.94-2.06 2.06-.94-2.06-.94-.94-2.06-.94 2.06-2.06.94z\"/><path d=\"M17.41 7.96l-1.37-1.37c-.4-.4-.92-.59-1.43-.59-.52 0-1.04.2-1.43.59L10.3 9.45l-7.72 7.72c-.78.78-.78 2.05 0 2.83L4 21.41c.39.39.9.59 1.41.59.51 0 1.02-.2 1.41-.59l7.78-7.78 2.81-2.81c.8-.78.8-2.07 0-2.86zM5.41 20L4 18.59l7.72-7.72 1.47 1.35L5.41 20z\"/>\n",
              "  </svg>\n",
              "      </button>\n",
              "      \n",
              "  <style>\n",
              "    .colab-df-container {\n",
              "      display:flex;\n",
              "      flex-wrap:wrap;\n",
              "      gap: 12px;\n",
              "    }\n",
              "\n",
              "    .colab-df-convert {\n",
              "      background-color: #E8F0FE;\n",
              "      border: none;\n",
              "      border-radius: 50%;\n",
              "      cursor: pointer;\n",
              "      display: none;\n",
              "      fill: #1967D2;\n",
              "      height: 32px;\n",
              "      padding: 0 0 0 0;\n",
              "      width: 32px;\n",
              "    }\n",
              "\n",
              "    .colab-df-convert:hover {\n",
              "      background-color: #E2EBFA;\n",
              "      box-shadow: 0px 1px 2px rgba(60, 64, 67, 0.3), 0px 1px 3px 1px rgba(60, 64, 67, 0.15);\n",
              "      fill: #174EA6;\n",
              "    }\n",
              "\n",
              "    [theme=dark] .colab-df-convert {\n",
              "      background-color: #3B4455;\n",
              "      fill: #D2E3FC;\n",
              "    }\n",
              "\n",
              "    [theme=dark] .colab-df-convert:hover {\n",
              "      background-color: #434B5C;\n",
              "      box-shadow: 0px 1px 3px 1px rgba(0, 0, 0, 0.15);\n",
              "      filter: drop-shadow(0px 1px 2px rgba(0, 0, 0, 0.3));\n",
              "      fill: #FFFFFF;\n",
              "    }\n",
              "  </style>\n",
              "\n",
              "      <script>\n",
              "        const buttonEl =\n",
              "          document.querySelector('#df-805178b0-8426-48f1-aa14-8125412bbc72 button.colab-df-convert');\n",
              "        buttonEl.style.display =\n",
              "          google.colab.kernel.accessAllowed ? 'block' : 'none';\n",
              "\n",
              "        async function convertToInteractive(key) {\n",
              "          const element = document.querySelector('#df-805178b0-8426-48f1-aa14-8125412bbc72');\n",
              "          const dataTable =\n",
              "            await google.colab.kernel.invokeFunction('convertToInteractive',\n",
              "                                                     [key], {});\n",
              "          if (!dataTable) return;\n",
              "\n",
              "          const docLinkHtml = 'Like what you see? Visit the ' +\n",
              "            '<a target=\"_blank\" href=https://colab.research.google.com/notebooks/data_table.ipynb>data table notebook</a>'\n",
              "            + ' to learn more about interactive tables.';\n",
              "          element.innerHTML = '';\n",
              "          dataTable['output_type'] = 'display_data';\n",
              "          await google.colab.output.renderOutput(dataTable, element);\n",
              "          const docLink = document.createElement('div');\n",
              "          docLink.innerHTML = docLinkHtml;\n",
              "          element.appendChild(docLink);\n",
              "        }\n",
              "      </script>\n",
              "    </div>\n",
              "  </div>\n",
              "  "
            ]
          },
          "metadata": {},
          "execution_count": 79
        }
      ]
    },
    {
      "cell_type": "code",
      "source": [
        "acc = accuracy_score(y_valid, ypreds)"
      ],
      "metadata": {
        "id": "irbvfwOPK6oa"
      },
      "execution_count": null,
      "outputs": []
    },
    {
      "cell_type": "code",
      "source": [
        "acc"
      ],
      "metadata": {
        "colab": {
          "base_uri": "https://localhost:8080/"
        },
        "id": "ZyBzrDWvLMhU",
        "outputId": "1b15a650-a59e-4842-b87e-96892f82edf7"
      },
      "execution_count": null,
      "outputs": [
        {
          "output_type": "execute_result",
          "data": {
            "text/plain": [
              "0.8730958230958231"
            ]
          },
          "metadata": {},
          "execution_count": 78
        }
      ]
    }
  ]
}